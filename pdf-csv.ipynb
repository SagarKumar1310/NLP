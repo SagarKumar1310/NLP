{
 "cells": [
  {
   "cell_type": "code",
   "execution_count": 1,
   "metadata": {},
   "outputs": [],
   "source": [
    "import re\n",
    "import requests\n",
    "import pdfplumber\n",
    "import pandas as pd\n",
    "from collections import namedtuple"
   ]
  },
  {
   "cell_type": "code",
   "execution_count": 2,
   "metadata": {},
   "outputs": [],
   "source": [
    "Rep = namedtuple('Rep', 'source Amt ')"
   ]
  },
  {
   "cell_type": "code",
   "execution_count": 3,
   "metadata": {},
   "outputs": [],
   "source": [
    "def download_file(url):\n",
    "    local_filename = url.split('/')[-1]\n",
    "    \n",
    "    with requests.get(url) as r:\n",
    "        with open(local_filename, 'wb') as f:\n",
    "            f.write(r.content)\n",
    "        \n",
    "    return local_filename"
   ]
  },
  {
   "cell_type": "code",
   "execution_count": 4,
   "metadata": {},
   "outputs": [],
   "source": [
    "ap = 'Aggregate under online shopping.pdf'"
   ]
  },
  {
   "cell_type": "code",
   "execution_count": 5,
   "metadata": {},
   "outputs": [],
   "source": [
    "with pdfplumber.open(ap) as pdf:\n",
    "    page = pdf.pages[0]\n",
    "    text = page.extract_text()"
   ]
  },
  {
   "cell_type": "code",
   "execution_count": 6,
   "metadata": {},
   "outputs": [
    {
     "name": "stdout",
     "output_type": "stream",
     "text": [
      "Aggregate under online shopping\n",
      "· ALERT:You've spent Rs.2.00 via Debit Card xx2217 at AMAZON PAY INDIA PRIVA on\n",
      "2021-03-25:02:10:37.Avl Bal Rs.1091.07.Not you?Call 18002586161.\n",
      "Aggregate under bank withdrawal\n",
      "· ALERT:You've withdrawn Rs.500.00 via Debit Card xx1135 at +UBI NOIDA MAIN on\n",
      "2021-06-06:20:27:20.Avl Bal Rs.854.14.Not you?Call 18002586161.\n",
      "Aggregate under UPI\n",
      "· HDFC Bank: Rs 1.00 debited from a/c **1135 on 06-08-21 to VPA\n",
      "kshreyansnahar@okhdfcbank (UPI Ref No 121554846690). Not you? Call on\n",
      "18002586161 to report\n",
      "Aggregate under food\n",
      "· Rs.327.25 on Zomato charged via Simpl.\n",
      "Food, groceries, commute, or medicines. Buy Now, Pay Later via Simpl. Know More:\n",
      "https://app.getsimpl.com/Jrf0zPQaFt- Simpl Pay\n",
      "· Payment of Rs. 370.6 using OlaMoney Postpaid for your transaction fzip-ndco-5wbi on\n",
      "Zomato is successful. Not you? Write to us at support@olamoney.com\n",
      "Aggregate under credit applications\n",
      "· HDFC Bank: Rs 393.66 debited from a/c **1135 on 20-07-21 to VPA simpl@axb(UPI Ref\n",
      "No 140653242517). Not you? Call on 18002586161 to report\n",
      "· HDFC Bank: Rs 145.60 debited from a/c **1135 on 28-06-21 to VPA\n",
      "olamoney.payu@indus(UPI Ref No 117914757648). Not you? Call on 18002586161 to\n",
      "report\n"
     ]
    }
   ],
   "source": [
    "print(text)"
   ]
  },
  {
   "cell_type": "code",
   "execution_count": 7,
   "metadata": {
    "scrolled": true
   },
   "outputs": [],
   "source": [
    "new = re.compile(r'^[Agg].*')"
   ]
  },
  {
   "cell_type": "code",
   "execution_count": 8,
   "metadata": {},
   "outputs": [
    {
     "name": "stdout",
     "output_type": "stream",
     "text": [
      "Aggregate under online shopping\n",
      "Aggregate under bank withdrawal\n",
      "Aggregate under UPI\n",
      "Aggregate under food\n",
      "Aggregate under credit applications\n"
     ]
    }
   ],
   "source": [
    "for line in text.split('\\n'):\n",
    "    if new.match(line):\n",
    "        print(line)"
   ]
  },
  {
   "cell_type": "code",
   "execution_count": 9,
   "metadata": {},
   "outputs": [
    {
     "name": "stdout",
     "output_type": "stream",
     "text": [
      "credit applications\n"
     ]
    }
   ],
   "source": [
    "for line in text.split('\\n'):\n",
    "    if new.match(line):\n",
    "        char1,char2, *source = line.split()\n",
    "        source = ' '.join(source)\n",
    "print(source)"
   ]
  },
  {
   "cell_type": "code",
   "execution_count": 14,
   "metadata": {},
   "outputs": [],
   "source": [
    "inv_line_re = re.compile(r'([\\d,]+\\.\\d{2}) ')"
   ]
  },
  {
   "cell_type": "code",
   "execution_count": 18,
   "metadata": {},
   "outputs": [],
   "source": [
    "line_items = []\n",
    "for line in text.split('\\n'):\n",
    "    if new.match(line):\n",
    "        char1,char2, *source = line.split()\n",
    "        source = ' '.join(source)    \n",
    "    \n",
    "    line = inv_line_re.search(line)\n",
    "    if line:\n",
    "        Amt = line.group(1)\n",
    "        line_items.append(Rep(source,Amt))"
   ]
  },
  {
   "cell_type": "code",
   "execution_count": 19,
   "metadata": {},
   "outputs": [],
   "source": [
    "df = pd.DataFrame(line_items)"
   ]
  },
  {
   "cell_type": "code",
   "execution_count": 20,
   "metadata": {},
   "outputs": [
    {
     "data": {
      "text/html": [
       "<div>\n",
       "<style scoped>\n",
       "    .dataframe tbody tr th:only-of-type {\n",
       "        vertical-align: middle;\n",
       "    }\n",
       "\n",
       "    .dataframe tbody tr th {\n",
       "        vertical-align: top;\n",
       "    }\n",
       "\n",
       "    .dataframe thead th {\n",
       "        text-align: right;\n",
       "    }\n",
       "</style>\n",
       "<table border=\"1\" class=\"dataframe\">\n",
       "  <thead>\n",
       "    <tr style=\"text-align: right;\">\n",
       "      <th></th>\n",
       "      <th>source</th>\n",
       "      <th>Amt</th>\n",
       "    </tr>\n",
       "  </thead>\n",
       "  <tbody>\n",
       "    <tr>\n",
       "      <th>0</th>\n",
       "      <td>online shopping</td>\n",
       "      <td>2.00</td>\n",
       "    </tr>\n",
       "    <tr>\n",
       "      <th>1</th>\n",
       "      <td>bank withdrawal</td>\n",
       "      <td>500.00</td>\n",
       "    </tr>\n",
       "    <tr>\n",
       "      <th>2</th>\n",
       "      <td>UPI</td>\n",
       "      <td>1.00</td>\n",
       "    </tr>\n",
       "    <tr>\n",
       "      <th>3</th>\n",
       "      <td>food</td>\n",
       "      <td>327.25</td>\n",
       "    </tr>\n",
       "    <tr>\n",
       "      <th>4</th>\n",
       "      <td>credit applications</td>\n",
       "      <td>393.66</td>\n",
       "    </tr>\n",
       "  </tbody>\n",
       "</table>\n",
       "</div>"
      ],
      "text/plain": [
       "                source     Amt\n",
       "0      online shopping    2.00\n",
       "1      bank withdrawal  500.00\n",
       "2                  UPI    1.00\n",
       "3                 food  327.25\n",
       "4  credit applications  393.66"
      ]
     },
     "execution_count": 20,
     "metadata": {},
     "output_type": "execute_result"
    }
   ],
   "source": [
    "df.head()"
   ]
  },
  {
   "cell_type": "code",
   "execution_count": 23,
   "metadata": {},
   "outputs": [],
   "source": [
    "df['Amt'] = df['Amt'].map(lambda x: float(x.replace(',', '')))"
   ]
  },
  {
   "cell_type": "code",
   "execution_count": 24,
   "metadata": {},
   "outputs": [
    {
     "data": {
      "text/plain": [
       "source    online shoppingbank withdrawalUPIfoodcredit ap...\n",
       "Amt                                                 1369.51\n",
       "dtype: object"
      ]
     },
     "execution_count": 24,
     "metadata": {},
     "output_type": "execute_result"
    }
   ],
   "source": [
    "df.sum()"
   ]
  },
  {
   "cell_type": "code",
   "execution_count": null,
   "metadata": {},
   "outputs": [],
   "source": []
  }
 ],
 "metadata": {
  "kernelspec": {
   "display_name": "Python 3",
   "language": "python",
   "name": "python3"
  },
  "language_info": {
   "codemirror_mode": {
    "name": "ipython",
    "version": 3
   },
   "file_extension": ".py",
   "mimetype": "text/x-python",
   "name": "python",
   "nbconvert_exporter": "python",
   "pygments_lexer": "ipython3",
   "version": "3.8.5"
  }
 },
 "nbformat": 4,
 "nbformat_minor": 4
}
